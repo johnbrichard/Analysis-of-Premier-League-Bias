{
 "cells": [
  {
   "cell_type": "code",
   "execution_count": 4,
   "metadata": {},
   "outputs": [],
   "source": [
    "import os\n",
    "import pandas as pd\n",
    "import numpy as np\n",
    "from scipy import stats\n",
    "import matplotlib.pyplot as plt\n",
    "pd.set_option('display.max_columns', 67)"
   ]
  },
  {
   "cell_type": "code",
   "execution_count": 11,
   "metadata": {},
   "outputs": [],
   "source": [
    "path=\"./datasets/\"\n",
    "data_set=[]\n",
    "for x in os.listdir(path):\n",
    "    data_set.append(x)"
   ]
  },
  {
   "cell_type": "code",
   "execution_count": 12,
   "metadata": {},
   "outputs": [
    {
     "data": {
      "text/plain": [
       "11"
      ]
     },
     "execution_count": 12,
     "metadata": {},
     "output_type": "execute_result"
    }
   ],
   "source": [
    "data_set.sort()\n",
    "len(data_set)"
   ]
  },
  {
   "cell_type": "code",
   "execution_count": 13,
   "metadata": {},
   "outputs": [
    {
     "name": "stdout",
     "output_type": "stream",
     "text": [
      "09_10\n"
     ]
    },
    {
     "data": {
      "text/html": [
       "<div>\n",
       "<style scoped>\n",
       "    .dataframe tbody tr th:only-of-type {\n",
       "        vertical-align: middle;\n",
       "    }\n",
       "\n",
       "    .dataframe tbody tr th {\n",
       "        vertical-align: top;\n",
       "    }\n",
       "\n",
       "    .dataframe thead th {\n",
       "        text-align: right;\n",
       "    }\n",
       "</style>\n",
       "<table border=\"1\" class=\"dataframe\">\n",
       "  <thead>\n",
       "    <tr style=\"text-align: right;\">\n",
       "      <th></th>\n",
       "      <th>Date</th>\n",
       "      <th>HomeTeam</th>\n",
       "      <th>AwayTeam</th>\n",
       "      <th>FTHG</th>\n",
       "      <th>FTAG</th>\n",
       "      <th>FTR</th>\n",
       "      <th>HTHG</th>\n",
       "      <th>HTAG</th>\n",
       "      <th>HTR</th>\n",
       "      <th>Referee</th>\n",
       "      <th>HS</th>\n",
       "      <th>AS</th>\n",
       "      <th>HST</th>\n",
       "      <th>AST</th>\n",
       "      <th>HF</th>\n",
       "      <th>AF</th>\n",
       "      <th>HC</th>\n",
       "      <th>AC</th>\n",
       "      <th>HY</th>\n",
       "      <th>AY</th>\n",
       "      <th>HR</th>\n",
       "      <th>AR</th>\n",
       "      <th>B365H</th>\n",
       "      <th>B365D</th>\n",
       "      <th>B365A</th>\n",
       "      <th>BWH</th>\n",
       "      <th>BWD</th>\n",
       "      <th>BWA</th>\n",
       "      <th>GBH</th>\n",
       "      <th>GBD</th>\n",
       "      <th>GBA</th>\n",
       "      <th>IWH</th>\n",
       "      <th>IWD</th>\n",
       "      <th>...</th>\n",
       "      <th>SBH</th>\n",
       "      <th>SBD</th>\n",
       "      <th>SBA</th>\n",
       "      <th>WHH</th>\n",
       "      <th>WHD</th>\n",
       "      <th>WHA</th>\n",
       "      <th>SJH</th>\n",
       "      <th>SJD</th>\n",
       "      <th>SJA</th>\n",
       "      <th>VCH</th>\n",
       "      <th>VCD</th>\n",
       "      <th>VCA</th>\n",
       "      <th>BSH</th>\n",
       "      <th>BSD</th>\n",
       "      <th>BSA</th>\n",
       "      <th>Bb1X2</th>\n",
       "      <th>BbMxH</th>\n",
       "      <th>BbAvH</th>\n",
       "      <th>BbMxD</th>\n",
       "      <th>BbAvD</th>\n",
       "      <th>BbMxA</th>\n",
       "      <th>BbAvA</th>\n",
       "      <th>BbOU</th>\n",
       "      <th>BbMx&gt;2.5</th>\n",
       "      <th>BbAv&gt;2.5</th>\n",
       "      <th>BbMx&lt;2.5</th>\n",
       "      <th>BbAv&lt;2.5</th>\n",
       "      <th>BbAH</th>\n",
       "      <th>BbAHh</th>\n",
       "      <th>BbMxAHH</th>\n",
       "      <th>BbAvAHH</th>\n",
       "      <th>BbMxAHA</th>\n",
       "      <th>BbAvAHA</th>\n",
       "    </tr>\n",
       "  </thead>\n",
       "  <tbody>\n",
       "    <tr>\n",
       "      <th>0</th>\n",
       "      <td>8/15/2009</td>\n",
       "      <td>Aston Villa</td>\n",
       "      <td>Wigan</td>\n",
       "      <td>0</td>\n",
       "      <td>2</td>\n",
       "      <td>A</td>\n",
       "      <td>0</td>\n",
       "      <td>1</td>\n",
       "      <td>A</td>\n",
       "      <td>M Clattenburg</td>\n",
       "      <td>11</td>\n",
       "      <td>14</td>\n",
       "      <td>5</td>\n",
       "      <td>7</td>\n",
       "      <td>15</td>\n",
       "      <td>14</td>\n",
       "      <td>4</td>\n",
       "      <td>6</td>\n",
       "      <td>2</td>\n",
       "      <td>2</td>\n",
       "      <td>0</td>\n",
       "      <td>0</td>\n",
       "      <td>1.67</td>\n",
       "      <td>3.60</td>\n",
       "      <td>5.50</td>\n",
       "      <td>1.65</td>\n",
       "      <td>3.40</td>\n",
       "      <td>5.00</td>\n",
       "      <td>1.67</td>\n",
       "      <td>3.50</td>\n",
       "      <td>5.25</td>\n",
       "      <td>1.7</td>\n",
       "      <td>3.5</td>\n",
       "      <td>...</td>\n",
       "      <td>1.65</td>\n",
       "      <td>3.40</td>\n",
       "      <td>5.0</td>\n",
       "      <td>1.70</td>\n",
       "      <td>3.4</td>\n",
       "      <td>5.50</td>\n",
       "      <td>1.67</td>\n",
       "      <td>3.60</td>\n",
       "      <td>5.50</td>\n",
       "      <td>1.70</td>\n",
       "      <td>3.4</td>\n",
       "      <td>5.0</td>\n",
       "      <td>1.62</td>\n",
       "      <td>3.5</td>\n",
       "      <td>5.5</td>\n",
       "      <td>37</td>\n",
       "      <td>1.72</td>\n",
       "      <td>1.66</td>\n",
       "      <td>3.77</td>\n",
       "      <td>3.51</td>\n",
       "      <td>6.05</td>\n",
       "      <td>5.33</td>\n",
       "      <td>32</td>\n",
       "      <td>2.04</td>\n",
       "      <td>1.92</td>\n",
       "      <td>1.91</td>\n",
       "      <td>1.81</td>\n",
       "      <td>21</td>\n",
       "      <td>0.0</td>\n",
       "      <td>1.28</td>\n",
       "      <td>1.22</td>\n",
       "      <td>4.40</td>\n",
       "      <td>3.99</td>\n",
       "    </tr>\n",
       "    <tr>\n",
       "      <th>1</th>\n",
       "      <td>8/15/2009</td>\n",
       "      <td>Blackburn</td>\n",
       "      <td>Man City</td>\n",
       "      <td>0</td>\n",
       "      <td>2</td>\n",
       "      <td>A</td>\n",
       "      <td>0</td>\n",
       "      <td>1</td>\n",
       "      <td>A</td>\n",
       "      <td>M Dean</td>\n",
       "      <td>17</td>\n",
       "      <td>8</td>\n",
       "      <td>9</td>\n",
       "      <td>5</td>\n",
       "      <td>12</td>\n",
       "      <td>9</td>\n",
       "      <td>5</td>\n",
       "      <td>4</td>\n",
       "      <td>2</td>\n",
       "      <td>1</td>\n",
       "      <td>0</td>\n",
       "      <td>0</td>\n",
       "      <td>3.60</td>\n",
       "      <td>3.25</td>\n",
       "      <td>2.10</td>\n",
       "      <td>3.40</td>\n",
       "      <td>3.15</td>\n",
       "      <td>2.00</td>\n",
       "      <td>3.40</td>\n",
       "      <td>3.25</td>\n",
       "      <td>2.10</td>\n",
       "      <td>3.2</td>\n",
       "      <td>3.2</td>\n",
       "      <td>...</td>\n",
       "      <td>3.15</td>\n",
       "      <td>3.25</td>\n",
       "      <td>2.1</td>\n",
       "      <td>3.50</td>\n",
       "      <td>3.2</td>\n",
       "      <td>2.15</td>\n",
       "      <td>3.30</td>\n",
       "      <td>3.25</td>\n",
       "      <td>2.20</td>\n",
       "      <td>3.25</td>\n",
       "      <td>3.2</td>\n",
       "      <td>2.2</td>\n",
       "      <td>3.30</td>\n",
       "      <td>3.2</td>\n",
       "      <td>2.2</td>\n",
       "      <td>38</td>\n",
       "      <td>3.78</td>\n",
       "      <td>3.37</td>\n",
       "      <td>3.35</td>\n",
       "      <td>3.24</td>\n",
       "      <td>2.25</td>\n",
       "      <td>2.12</td>\n",
       "      <td>33</td>\n",
       "      <td>2.15</td>\n",
       "      <td>2.04</td>\n",
       "      <td>1.78</td>\n",
       "      <td>1.71</td>\n",
       "      <td>24</td>\n",
       "      <td>0.0</td>\n",
       "      <td>2.58</td>\n",
       "      <td>2.38</td>\n",
       "      <td>1.60</td>\n",
       "      <td>1.54</td>\n",
       "    </tr>\n",
       "    <tr>\n",
       "      <th>2</th>\n",
       "      <td>8/15/2009</td>\n",
       "      <td>Bolton</td>\n",
       "      <td>Sunderland</td>\n",
       "      <td>0</td>\n",
       "      <td>1</td>\n",
       "      <td>A</td>\n",
       "      <td>0</td>\n",
       "      <td>1</td>\n",
       "      <td>A</td>\n",
       "      <td>A Marriner</td>\n",
       "      <td>11</td>\n",
       "      <td>20</td>\n",
       "      <td>3</td>\n",
       "      <td>13</td>\n",
       "      <td>16</td>\n",
       "      <td>10</td>\n",
       "      <td>4</td>\n",
       "      <td>7</td>\n",
       "      <td>2</td>\n",
       "      <td>1</td>\n",
       "      <td>0</td>\n",
       "      <td>0</td>\n",
       "      <td>2.25</td>\n",
       "      <td>3.25</td>\n",
       "      <td>3.25</td>\n",
       "      <td>2.15</td>\n",
       "      <td>3.15</td>\n",
       "      <td>3.15</td>\n",
       "      <td>2.25</td>\n",
       "      <td>3.25</td>\n",
       "      <td>3.10</td>\n",
       "      <td>2.2</td>\n",
       "      <td>3.2</td>\n",
       "      <td>...</td>\n",
       "      <td>2.25</td>\n",
       "      <td>3.20</td>\n",
       "      <td>2.9</td>\n",
       "      <td>2.30</td>\n",
       "      <td>3.2</td>\n",
       "      <td>3.20</td>\n",
       "      <td>2.30</td>\n",
       "      <td>3.25</td>\n",
       "      <td>3.10</td>\n",
       "      <td>2.25</td>\n",
       "      <td>3.2</td>\n",
       "      <td>3.1</td>\n",
       "      <td>2.20</td>\n",
       "      <td>3.2</td>\n",
       "      <td>3.3</td>\n",
       "      <td>38</td>\n",
       "      <td>2.37</td>\n",
       "      <td>2.24</td>\n",
       "      <td>3.31</td>\n",
       "      <td>3.20</td>\n",
       "      <td>3.40</td>\n",
       "      <td>3.15</td>\n",
       "      <td>33</td>\n",
       "      <td>2.25</td>\n",
       "      <td>2.12</td>\n",
       "      <td>1.70</td>\n",
       "      <td>1.66</td>\n",
       "      <td>23</td>\n",
       "      <td>0.0</td>\n",
       "      <td>1.68</td>\n",
       "      <td>1.61</td>\n",
       "      <td>2.33</td>\n",
       "      <td>2.23</td>\n",
       "    </tr>\n",
       "    <tr>\n",
       "      <th>3</th>\n",
       "      <td>8/15/2009</td>\n",
       "      <td>Chelsea</td>\n",
       "      <td>Hull</td>\n",
       "      <td>2</td>\n",
       "      <td>1</td>\n",
       "      <td>H</td>\n",
       "      <td>1</td>\n",
       "      <td>1</td>\n",
       "      <td>D</td>\n",
       "      <td>A Wiley</td>\n",
       "      <td>26</td>\n",
       "      <td>7</td>\n",
       "      <td>12</td>\n",
       "      <td>3</td>\n",
       "      <td>13</td>\n",
       "      <td>15</td>\n",
       "      <td>12</td>\n",
       "      <td>4</td>\n",
       "      <td>1</td>\n",
       "      <td>2</td>\n",
       "      <td>0</td>\n",
       "      <td>0</td>\n",
       "      <td>1.17</td>\n",
       "      <td>6.50</td>\n",
       "      <td>21.00</td>\n",
       "      <td>1.17</td>\n",
       "      <td>6.00</td>\n",
       "      <td>13.00</td>\n",
       "      <td>1.20</td>\n",
       "      <td>6.00</td>\n",
       "      <td>15.00</td>\n",
       "      <td>1.2</td>\n",
       "      <td>5.5</td>\n",
       "      <td>...</td>\n",
       "      <td>1.17</td>\n",
       "      <td>5.75</td>\n",
       "      <td>15.0</td>\n",
       "      <td>1.17</td>\n",
       "      <td>6.5</td>\n",
       "      <td>21.00</td>\n",
       "      <td>1.18</td>\n",
       "      <td>6.50</td>\n",
       "      <td>17.00</td>\n",
       "      <td>1.17</td>\n",
       "      <td>6.0</td>\n",
       "      <td>17.0</td>\n",
       "      <td>1.20</td>\n",
       "      <td>5.5</td>\n",
       "      <td>19.0</td>\n",
       "      <td>38</td>\n",
       "      <td>1.20</td>\n",
       "      <td>1.17</td>\n",
       "      <td>7.71</td>\n",
       "      <td>6.26</td>\n",
       "      <td>23.14</td>\n",
       "      <td>16.39</td>\n",
       "      <td>34</td>\n",
       "      <td>1.67</td>\n",
       "      <td>1.58</td>\n",
       "      <td>2.44</td>\n",
       "      <td>2.26</td>\n",
       "      <td>22</td>\n",
       "      <td>0.0</td>\n",
       "      <td>1.03</td>\n",
       "      <td>1.02</td>\n",
       "      <td>17.05</td>\n",
       "      <td>12.96</td>\n",
       "    </tr>\n",
       "    <tr>\n",
       "      <th>4</th>\n",
       "      <td>8/15/2009</td>\n",
       "      <td>Everton</td>\n",
       "      <td>Arsenal</td>\n",
       "      <td>1</td>\n",
       "      <td>6</td>\n",
       "      <td>A</td>\n",
       "      <td>0</td>\n",
       "      <td>3</td>\n",
       "      <td>A</td>\n",
       "      <td>M Halsey</td>\n",
       "      <td>8</td>\n",
       "      <td>15</td>\n",
       "      <td>5</td>\n",
       "      <td>9</td>\n",
       "      <td>11</td>\n",
       "      <td>13</td>\n",
       "      <td>4</td>\n",
       "      <td>9</td>\n",
       "      <td>0</td>\n",
       "      <td>0</td>\n",
       "      <td>0</td>\n",
       "      <td>0</td>\n",
       "      <td>3.20</td>\n",
       "      <td>3.25</td>\n",
       "      <td>2.30</td>\n",
       "      <td>2.95</td>\n",
       "      <td>3.15</td>\n",
       "      <td>2.25</td>\n",
       "      <td>3.00</td>\n",
       "      <td>3.25</td>\n",
       "      <td>2.30</td>\n",
       "      <td>3.1</td>\n",
       "      <td>3.1</td>\n",
       "      <td>...</td>\n",
       "      <td>3.00</td>\n",
       "      <td>3.20</td>\n",
       "      <td>2.2</td>\n",
       "      <td>3.20</td>\n",
       "      <td>3.2</td>\n",
       "      <td>2.30</td>\n",
       "      <td>3.25</td>\n",
       "      <td>3.25</td>\n",
       "      <td>2.25</td>\n",
       "      <td>2.90</td>\n",
       "      <td>3.3</td>\n",
       "      <td>2.3</td>\n",
       "      <td>3.25</td>\n",
       "      <td>3.2</td>\n",
       "      <td>2.2</td>\n",
       "      <td>38</td>\n",
       "      <td>3.34</td>\n",
       "      <td>3.07</td>\n",
       "      <td>3.34</td>\n",
       "      <td>3.21</td>\n",
       "      <td>2.42</td>\n",
       "      <td>2.28</td>\n",
       "      <td>34</td>\n",
       "      <td>2.20</td>\n",
       "      <td>2.06</td>\n",
       "      <td>1.77</td>\n",
       "      <td>1.70</td>\n",
       "      <td>24</td>\n",
       "      <td>0.0</td>\n",
       "      <td>2.27</td>\n",
       "      <td>2.20</td>\n",
       "      <td>1.73</td>\n",
       "      <td>1.63</td>\n",
       "    </tr>\n",
       "  </tbody>\n",
       "</table>\n",
       "<p>5 rows × 70 columns</p>\n",
       "</div>"
      ],
      "text/plain": [
       "        Date     HomeTeam    AwayTeam  FTHG  FTAG FTR  HTHG  HTAG HTR  \\\n",
       "0  8/15/2009  Aston Villa       Wigan     0     2   A     0     1   A   \n",
       "1  8/15/2009    Blackburn    Man City     0     2   A     0     1   A   \n",
       "2  8/15/2009       Bolton  Sunderland     0     1   A     0     1   A   \n",
       "3  8/15/2009      Chelsea        Hull     2     1   H     1     1   D   \n",
       "4  8/15/2009      Everton     Arsenal     1     6   A     0     3   A   \n",
       "\n",
       "         Referee  HS  AS  HST  AST  HF  AF  HC  AC  HY  AY  HR  AR  B365H  \\\n",
       "0  M Clattenburg  11  14    5    7  15  14   4   6   2   2   0   0   1.67   \n",
       "1         M Dean  17   8    9    5  12   9   5   4   2   1   0   0   3.60   \n",
       "2     A Marriner  11  20    3   13  16  10   4   7   2   1   0   0   2.25   \n",
       "3        A Wiley  26   7   12    3  13  15  12   4   1   2   0   0   1.17   \n",
       "4       M Halsey   8  15    5    9  11  13   4   9   0   0   0   0   3.20   \n",
       "\n",
       "   B365D  B365A   BWH   BWD    BWA   GBH   GBD    GBA  IWH  IWD  ...   SBH  \\\n",
       "0   3.60   5.50  1.65  3.40   5.00  1.67  3.50   5.25  1.7  3.5  ...  1.65   \n",
       "1   3.25   2.10  3.40  3.15   2.00  3.40  3.25   2.10  3.2  3.2  ...  3.15   \n",
       "2   3.25   3.25  2.15  3.15   3.15  2.25  3.25   3.10  2.2  3.2  ...  2.25   \n",
       "3   6.50  21.00  1.17  6.00  13.00  1.20  6.00  15.00  1.2  5.5  ...  1.17   \n",
       "4   3.25   2.30  2.95  3.15   2.25  3.00  3.25   2.30  3.1  3.1  ...  3.00   \n",
       "\n",
       "    SBD   SBA   WHH  WHD    WHA   SJH   SJD    SJA   VCH  VCD   VCA   BSH  \\\n",
       "0  3.40   5.0  1.70  3.4   5.50  1.67  3.60   5.50  1.70  3.4   5.0  1.62   \n",
       "1  3.25   2.1  3.50  3.2   2.15  3.30  3.25   2.20  3.25  3.2   2.2  3.30   \n",
       "2  3.20   2.9  2.30  3.2   3.20  2.30  3.25   3.10  2.25  3.2   3.1  2.20   \n",
       "3  5.75  15.0  1.17  6.5  21.00  1.18  6.50  17.00  1.17  6.0  17.0  1.20   \n",
       "4  3.20   2.2  3.20  3.2   2.30  3.25  3.25   2.25  2.90  3.3   2.3  3.25   \n",
       "\n",
       "   BSD   BSA  Bb1X2  BbMxH  BbAvH  BbMxD  BbAvD  BbMxA  BbAvA  BbOU  BbMx>2.5  \\\n",
       "0  3.5   5.5     37   1.72   1.66   3.77   3.51   6.05   5.33    32      2.04   \n",
       "1  3.2   2.2     38   3.78   3.37   3.35   3.24   2.25   2.12    33      2.15   \n",
       "2  3.2   3.3     38   2.37   2.24   3.31   3.20   3.40   3.15    33      2.25   \n",
       "3  5.5  19.0     38   1.20   1.17   7.71   6.26  23.14  16.39    34      1.67   \n",
       "4  3.2   2.2     38   3.34   3.07   3.34   3.21   2.42   2.28    34      2.20   \n",
       "\n",
       "   BbAv>2.5  BbMx<2.5  BbAv<2.5  BbAH  BbAHh  BbMxAHH  BbAvAHH  BbMxAHA  \\\n",
       "0      1.92      1.91      1.81    21    0.0     1.28     1.22     4.40   \n",
       "1      2.04      1.78      1.71    24    0.0     2.58     2.38     1.60   \n",
       "2      2.12      1.70      1.66    23    0.0     1.68     1.61     2.33   \n",
       "3      1.58      2.44      2.26    22    0.0     1.03     1.02    17.05   \n",
       "4      2.06      1.77      1.70    24    0.0     2.27     2.20     1.73   \n",
       "\n",
       "   BbAvAHA  \n",
       "0     3.99  \n",
       "1     1.54  \n",
       "2     2.23  \n",
       "3    12.96  \n",
       "4     1.63  \n",
       "\n",
       "[5 rows x 70 columns]"
      ]
     },
     "execution_count": 13,
     "metadata": {},
     "output_type": "execute_result"
    }
   ],
   "source": [
    "# Read in csv as pandas dataframe\n",
    "data_file=data_set[0]\n",
    "df=pd.read_csv(path+data_file)\n",
    "season=data_file.strip('.csv')\n",
    "print(season)\n",
    "df.head()"
   ]
  },
  {
   "cell_type": "code",
   "execution_count": 14,
   "metadata": {},
   "outputs": [],
   "source": [
    "# Create dataframes for match_data and betting_data from the original dataframe\n",
    "match_data=df.loc[:, 'Date':'AR']\n",
    "betting_data=df.loc[:,'B365H':]"
   ]
  },
  {
   "cell_type": "code",
   "execution_count": 4,
   "metadata": {},
   "outputs": [],
   "source": [
    "# Create a dataframe with the referees, result, and number of cards for the match\n",
    "ref_cards_result=df[['HomeTeam','AwayTeam','FTR','Referee','HF','AF','HY','AY','HR','AR']]\n",
    "ref_cards_result=ref_cards_result.rename(columns={\"HF\": \"Home Fouls\", \"AF\": \"Away Fouls\",\n",
    "                                        \"HY\":\"Home Yellows\",\"AY\":\"Away Yellows\",\n",
    "                                        \"HR\":\"Home Reds\",\"AR\":\"Away Reds\",\n",
    "                                        \"FTR\":\"Result\"})"
   ]
  },
  {
   "cell_type": "code",
   "execution_count": 15,
   "metadata": {},
   "outputs": [],
   "source": [
    "# Create separate dataframe for home/away team cards\n",
    "home_cards=df[['HomeTeam','HY','HR']]\n",
    "away_cards=df[['AwayTeam','AY','AR']]"
   ]
  },
  {
   "cell_type": "code",
   "execution_count": 21,
   "metadata": {},
   "outputs": [
    {
     "data": {
      "text/plain": [
       "array(['Arsenal', 'Aston Villa', 'Birmingham', 'Blackburn', 'Bolton',\n",
       "       'Burnley', 'Chelsea', 'Everton', 'Fulham', 'Hull', 'Liverpool',\n",
       "       'Man City', 'Man United', 'Portsmouth', 'Stoke', 'Sunderland',\n",
       "       'Tottenham', 'West Ham', 'Wigan', 'Wolves'], dtype=object)"
      ]
     },
     "execution_count": 21,
     "metadata": {},
     "output_type": "execute_result"
    }
   ],
   "source": [
    "# Create an array containing each unique value for clubs and referees both in alphabetical order\n",
    "clubs=df['HomeTeam'].unique()\n",
    "clubs.sort()\n",
    "refs=df['Referee'].unique()\n",
    "refs.sort()"
   ]
  },
  {
   "cell_type": "code",
   "execution_count": 7,
   "metadata": {
    "tags": []
   },
   "outputs": [],
   "source": [
    "# Create empty arrays for w-l-d and yellow/red cards\n",
    "yellow_cards=np.array([0 for _ in range(0,len(refs))])\n",
    "red_cards=np.array([0 for _ in range(0,len(refs))])\n",
    "club_wins=np.array([0 for _ in range(20)])\n",
    "club_losses=np.array([0 for _ in range(20)])\n",
    "club_draws=np.array([0 for _ in range(20)])\n",
    "club_points=np.array([0 for _ in range(20)])\n",
    "club_yellows=np.array([0 for _ in range(20)])\n",
    "club_reds=np.array([0 for _ in range(20)])"
   ]
  },
  {
   "cell_type": "code",
   "execution_count": 8,
   "metadata": {
    "tags": []
   },
   "outputs": [],
   "source": [
    "# Determine how many yellow cards were given by each referee\n",
    "for i in range(len(ref_cards_result['Home Yellows'])):\n",
    "    match_ref=ref_cards_result['Referee'][i]\n",
    "    ref_index=np.where(refs==match_ref)\n",
    "    yellow_cards[ref_index]+=ref_cards_result['Home Yellows'][i]\n",
    "    \n",
    "for i in range(len(ref_cards_result['Away Yellows'])):\n",
    "    match_ref=ref_cards_result['Referee'][i]\n",
    "    ref_index=np.where(refs==match_ref)\n",
    "    yellow_cards[ref_index]+=ref_cards_result['Away Yellows'][i]"
   ]
  },
  {
   "cell_type": "code",
   "execution_count": 9,
   "metadata": {},
   "outputs": [],
   "source": [
    "# Determine how many red cards were given by each referee\n",
    "for i in range(len(ref_cards_result['Home Reds'])):\n",
    "    match_ref=ref_cards_result['Referee'][i]\n",
    "    ref_index=np.where(refs==match_ref)\n",
    "    red_cards[ref_index]+=ref_cards_result['Home Reds'][i]\n",
    "    \n",
    "for i in range(len(ref_cards_result['Away Reds'])):\n",
    "    match_ref=ref_cards_result['Referee'][i]\n",
    "    ref_index=np.where(refs==match_ref)\n",
    "    red_cards[ref_index]+=ref_cards_result['Away Reds'][i]"
   ]
  },
  {
   "cell_type": "code",
   "execution_count": 10,
   "metadata": {},
   "outputs": [],
   "source": [
    "for i in range(len(ref_cards_result['Result'])):\n",
    "        # Aggregate yellow and red cards by club for home club\n",
    "        home_team=ref_cards_result['HomeTeam'][i]\n",
    "        club_index=np.where(clubs==home_team)\n",
    "        club_yellows[club_index]+=ref_cards_result['Home Yellows'][i]\n",
    "        club_reds[club_index]+=ref_cards_result['Home Reds'][i]\n",
    "        \n",
    "        # Aggregate yellow and red cards by club for away club\n",
    "        away_team=ref_cards_result['AwayTeam'][i]\n",
    "        club_index=np.where(clubs==away_team)\n",
    "        club_yellows[club_index]+=ref_cards_result['Away Yellows'][i]\n",
    "        club_reds[club_index]+=ref_cards_result['Away Reds'][i]"
   ]
  },
  {
   "cell_type": "code",
   "execution_count": 11,
   "metadata": {},
   "outputs": [],
   "source": [
    "# # Create an empty dict to hold each referees match record for each club\n",
    "# match_record={}\n",
    "# for i in range(0,len(refs)):\n",
    "#     match_record[refs[i]] = []\n",
    "    \n",
    "# match_record\n",
    "\n",
    "# for i in range(len(ref_cards_result['Result'])):\n",
    "#     match_ref=ref_cards_result['Referee'][i]\n",
    "#     ref_index=np.where(refs==match_ref)\n",
    "#     print(match_record[refs[ref_index]])\n",
    "# #     home_team=ref_cards_result['HomeTeam'][i]\n",
    "# #     club_index=np.where(clubs==home_team)\n",
    "# #     match_record[refs[ref_index]].append(ref_cards_result['Home Yellows'][i])\n",
    "   \n",
    "# #     away_team=ref_cards_result['AwayTeam'][i]\n",
    "# #     club_index=np.where(clubs==away_team)\n",
    "# #     match_record[refs[ref_index]].append(ref_cards_result['Away Yellows'][i])\n",
    "\n",
    "# match_record"
   ]
  },
  {
   "cell_type": "code",
   "execution_count": 12,
   "metadata": {},
   "outputs": [
    {
     "name": "stdout",
     "output_type": "stream",
     "text": [
      "The club with the most yellow cards is Aston Villa\n",
      "The club with the most red cards is Sunderland\n"
     ]
    }
   ],
   "source": [
    "# Print out the records for each club\n",
    "most_yellows=clubs[np.where(club_yellows==max(club_yellows))]\n",
    "most_reds=clubs[np.where(club_reds==max(club_reds))]\n",
    "print(\"The club with the most yellow cards is\",most_yellows[0])\n",
    "print(\"The club with the most red cards is\",most_reds[0])"
   ]
  },
  {
   "cell_type": "code",
   "execution_count": 13,
   "metadata": {},
   "outputs": [
    {
     "name": "stdout",
     "output_type": "stream",
     "text": [
      "The distribution of yellow cards is assumed to be normally distributed\n",
      "The distribution of red cards is assumed to be normally distributed\n"
     ]
    }
   ],
   "source": [
    "# Test number of cards given per club for normality using scipy\n",
    "alpha=0.05\n",
    "\n",
    "# Yellow card test\n",
    "k2,p=stats.normaltest(club_yellows)\n",
    "if p < alpha:  # null hypothesis: x comes from a normal distribution\n",
    "    print(\"The distribution of yellow cards is not assumed to be normally distributed\")\n",
    "else:\n",
    "    print(\"The distribution of yellow cards is assumed to be normally distributed\")\n",
    "    \n",
    "# Red card test\n",
    "k2,p=stats.normaltest(club_reds)\n",
    "if p < alpha:  # null hypothesis: x comes from a normal distribution\n",
    "    print(\"The distribution of red cards is not assumed to be normally distributed\")\n",
    "else:\n",
    "    print(\"The distribution of red cards is assumed to be normally distributed\")"
   ]
  },
  {
   "cell_type": "code",
   "execution_count": 31,
   "metadata": {},
   "outputs": [
    {
     "name": "stdout",
     "output_type": "stream",
     "text": [
      "NormaltestResult(statistic=1.4715437195492223, pvalue=0.4791354907995493)\n",
      "p: 0.4791354907995493 k2 1.4715437195492223\n"
     ]
    }
   ],
   "source": [
    "print(stats.normaltest(club_reds))\n",
    "k2,p=stats.normaltest(club_reds)\n",
    "print(\"p:\",p,\"k2\",k2)"
   ]
  },
  {
   "cell_type": "code",
   "execution_count": 14,
   "metadata": {},
   "outputs": [
    {
     "data": {
      "image/png": "[encoded data removed]",
      "text/plain": [
       "<Figure size 1224x1224 with 1 Axes>"
      ]
     },
     "metadata": {
      "needs_background": "light"
     },
     "output_type": "display_data"
    }
   ],
   "source": [
    "fig = plt.figure(figsize =(17, 17))\n",
    "plt.bar(clubs, club_yellows, color='yellow')\n",
    "plt.show()"
   ]
  },
  {
   "cell_type": "code",
   "execution_count": 15,
   "metadata": {},
   "outputs": [
    {
     "data": {
      "image/png": "[encoded data removed]",
      "text/plain": [
       "<Figure size 1224x1224 with 1 Axes>"
      ]
     },
     "metadata": {
      "needs_background": "light"
     },
     "output_type": "display_data"
    }
   ],
   "source": [
    "fig = plt.figure(figsize =(17, 17))\n",
    "plt.bar(clubs,club_reds,color='red')\n",
    "plt.show()"
   ]
  },
  {
   "cell_type": "markdown",
   "metadata": {},
   "source": [
    "### Cards given by referees"
   ]
  },
  {
   "cell_type": "code",
   "execution_count": 16,
   "metadata": {},
   "outputs": [
    {
     "name": "stdout",
     "output_type": "stream",
     "text": [
      "The distribution of yellow cards by referee is assumed to be normally distributed\n",
      "The distribution of red cards by referee is assumed to be normally distributed\n"
     ]
    },
    {
     "name": "stderr",
     "output_type": "stream",
     "text": [
      "C:\\Users\\barre\\AppData\\Roaming\\Python\\Python37\\site-packages\\scipy\\stats\\stats.py:1535: UserWarning: kurtosistest only valid for n>=20 ... continuing anyway, n=18\n",
      "  \"anyway, n=%i\" % int(n))\n"
     ]
    }
   ],
   "source": [
    "# Test number of cards given by referee for normality\n",
    "alpha=0.05\n",
    "\n",
    "# Yellow card test\n",
    "k2,p=stats.normaltest(yellow_cards)\n",
    "if p < alpha:  \n",
    "    print(\"The distribution of yellow cards by referee is not assumed to be normally distributed\")\n",
    "else:\n",
    "    print(\"The distribution of yellow cards by referee is assumed to be normally distributed\")\n",
    "    \n",
    "# Red card test\n",
    "k2,p=stats.normaltest(red_cards)\n",
    "if p < alpha:  \n",
    "    print(\"The distribution of red cards by referee is not assumed to be normally distributed\")\n",
    "else:\n",
    "    print(\"The distribution of red cards by referee is assumed to be normally distributed\")"
   ]
  },
  {
   "cell_type": "code",
   "execution_count": 17,
   "metadata": {},
   "outputs": [
    {
     "data": {
      "image/png": "[encoded data removed]",
      "text/plain": [
       "<Figure size 1224x1224 with 1 Axes>"
      ]
     },
     "metadata": {
      "needs_background": "light"
     },
     "output_type": "display_data"
    }
   ],
   "source": [
    "fig = plt.figure(figsize =(17, 17))\n",
    "plt.bar(refs, yellow_cards, color='yellow')\n",
    "plt.show()"
   ]
  },
  {
   "cell_type": "code",
   "execution_count": 18,
   "metadata": {},
   "outputs": [
    {
     "data": {
      "image/png": "[encoded data removed]",
      "text/plain": [
       "<Figure size 1224x1224 with 1 Axes>"
      ]
     },
     "metadata": {
      "needs_background": "light"
     },
     "output_type": "display_data"
    }
   ],
   "source": [
    "fig = plt.figure(figsize =(17, 17))\n",
    "plt.bar(refs,red_cards,color='red')\n",
    "plt.show()"
   ]
  },
  {
   "cell_type": "code",
   "execution_count": 19,
   "metadata": {},
   "outputs": [],
   "source": [
    "# Aggregate cards given per club per referee\n",
    "for i in range(len(ref_cards_result['Result'])):\n",
    "        # Aggregate yellow and red cards by club for home club\n",
    "        home_team=ref_cards_result['HomeTeam'][i]\n",
    "        club_index=np.where(clubs==home_team)\n",
    "        club_yellows[club_index]+=ref_cards_result['Home Yellows'][i]\n",
    "        club_reds[club_index]+=ref_cards_result['Home Reds'][i]\n",
    "        \n",
    "        # Aggregate yellow and red cards by club for away club\n",
    "        away_team=ref_cards_result['AwayTeam'][i]\n",
    "        club_index=np.where(clubs==away_team)\n",
    "        club_yellows[club_index]+=ref_cards_result['Away Yellows'][i]\n",
    "        club_reds[club_index]+=ref_cards_result['Away Reds'][i]"
   ]
  },
  {
   "cell_type": "markdown",
   "metadata": {},
   "source": [
    "### Club statistics"
   ]
  },
  {
   "cell_type": "code",
   "execution_count": 20,
   "metadata": {},
   "outputs": [],
   "source": [
    "# Count matches won and lost by club\n",
    "for i in range(len(ref_cards_result['Result'])):\n",
    "    # Get winner of match\n",
    "    result=ref_cards_result['Result'][i]\n",
    "    \n",
    "    # If Away team wins\n",
    "    if result=='A':\n",
    "        # Increase Away club win column by 1\n",
    "        club=ref_cards_result['AwayTeam'][i]\n",
    "        club_index=np.where(clubs==club)\n",
    "        club_wins[club_index]+=1\n",
    "        club_points[club_index]+=3\n",
    "        \n",
    "        # Increase Home clubs loss column by 1\n",
    "        club=ref_cards_result['HomeTeam'][i]\n",
    "        club_index=np.where(clubs==club)\n",
    "        club_losses[club_index]+=1\n",
    "    # If Home team wins\n",
    "    elif result=='H':\n",
    "        # Increase Home club win column by 1\n",
    "        club=ref_cards_result['HomeTeam'][i]\n",
    "        club_index=np.where(clubs==club)\n",
    "        club_wins[club_index]+=1\n",
    "        club_points[club_index]+=3\n",
    "        \n",
    "        # Increase Away club loss column by 1\n",
    "        club=ref_cards_result['AwayTeam'][i]\n",
    "        club_index=np.where(clubs==club)\n",
    "        club_losses[club_index]+=1\n",
    "        \n",
    "# Calculate number of times a club drew\n",
    "for i in range(0,len(club_wins)):\n",
    "    if club_wins[i]+club_losses[i]<38:\n",
    "        club_draws[i]=38-(club_wins[i]+club_losses[i])\n",
    "        club_points[i]+=club_draws[i]"
   ]
  },
  {
   "cell_type": "code",
   "execution_count": 21,
   "metadata": {},
   "outputs": [
    {
     "name": "stdout",
     "output_type": "stream",
     "text": [
      "Cardiff\n",
      "Fulham\n",
      "Norwich\n"
     ]
    }
   ],
   "source": [
    "# Get bottom 3 clubs\n",
    "idx=np.argpartition(club_points,3)\n",
    "\n",
    "# Print bottom 3 clubs\n",
    "for i in range(0,3):\n",
    "    print(clubs[idx[i]])"
   ]
  },
  {
   "cell_type": "code",
   "execution_count": 22,
   "metadata": {},
   "outputs": [
    {
     "name": "stdout",
     "output_type": "stream",
     "text": [
      "Man City\n"
     ]
    }
   ],
   "source": [
    "# Get league winner\n",
    "first_place=clubs[np.where(club_points==max(club_points))]\n",
    "print(first_place[0])"
   ]
  },
  {
   "cell_type": "code",
   "execution_count": 23,
   "metadata": {},
   "outputs": [
    {
     "name": "stdout",
     "output_type": "stream",
     "text": [
      "The distribution of wins by club is assumed to be normally distributed\n"
     ]
    }
   ],
   "source": [
    "# Test distribution of club_wins for normality\n",
    "k2,p=stats.normaltest(club_wins)\n",
    "if p < alpha:  \n",
    "    print(\"The distribution of wins by club is not assumed to be normally distributed\")\n",
    "else:\n",
    "    print(\"The distribution of wins by club is assumed to be normally distributed\")"
   ]
  },
  {
   "cell_type": "code",
   "execution_count": 24,
   "metadata": {},
   "outputs": [
    {
     "name": "stdout",
     "output_type": "stream",
     "text": [
      "The distribution of draws by club is not assumed to be normally distributed\n"
     ]
    }
   ],
   "source": [
    "# Test distribution of club_draws for normality\n",
    "k2,p=stats.normaltest(club_draws)\n",
    "if p < alpha:  \n",
    "    print(\"The distribution of draws by club is not assumed to be normally distributed\")\n",
    "else:\n",
    "    print(\"The distribution of draws by club is assumed to be normally distributed\")"
   ]
  },
  {
   "cell_type": "code",
   "execution_count": 25,
   "metadata": {},
   "outputs": [],
   "source": [
    "# Test distribution of club_draws for normality\n",
    "avg_draws=np.average(club_draws)\n",
    "k2,p=stats.ttest_1samp(club_draws,avg_draws)\n",
    "\n",
    "# if p < alpha:  \n",
    "#     print(\"The distribution of draws by club is not assumed to be normally distributed\")\n",
    "# else:\n",
    "#     print(\"The distribution of draws by club is assumed to be normally distributed\")"
   ]
  },
  {
   "cell_type": "code",
   "execution_count": 26,
   "metadata": {},
   "outputs": [
    {
     "name": "stdout",
     "output_type": "stream",
     "text": [
      "The distribution of losses by club is assumed to be normally distributed\n"
     ]
    }
   ],
   "source": [
    "# Test distribution of club_losses for normality\n",
    "k2,p=stats.normaltest(club_losses)\n",
    "if p < alpha:  \n",
    "    print(\"The distribution of losses by club is not assumed to be normally distributed\")\n",
    "else:\n",
    "    print(\"The distribution of losses by club is assumed to be normally distributed\")"
   ]
  },
  {
   "cell_type": "code",
   "execution_count": null,
   "metadata": {},
   "outputs": [],
   "source": []
  },
  {
   "cell_type": "code",
   "execution_count": 27,
   "metadata": {},
   "outputs": [
    {
     "data": {
      "image/png": "[encoded data removed]",
      "text/plain": [
       "<Figure size 1800x720 with 1 Axes>"
      ]
     },
     "metadata": {
      "needs_background": "light"
     },
     "output_type": "display_data"
    }
   ],
   "source": [
    "fig = plt.figure(figsize =(25, 10))\n",
    "plt.bar(clubs, club_wins, color='green')\n",
    "plt.title(\"Matches won by club\")\n",
    "plt.show()"
   ]
  },
  {
   "cell_type": "code",
   "execution_count": 28,
   "metadata": {},
   "outputs": [
    {
     "data": {
      "image/png": "[encoded data removed]",
      "text/plain": [
       "<Figure size 1800x720 with 1 Axes>"
      ]
     },
     "metadata": {
      "needs_background": "light"
     },
     "output_type": "display_data"
    }
   ],
   "source": [
    "fig = plt.figure(figsize =(25, 10))\n",
    "plt.bar(clubs, club_draws, color='yellow')\n",
    "plt.title(\"Matches drawn by club\")\n",
    "plt.show()"
   ]
  },
  {
   "cell_type": "code",
   "execution_count": 29,
   "metadata": {},
   "outputs": [
    {
     "data": {
      "image/png": "[encoded data removed]",
      "text/plain": [
       "<Figure size 1800x720 with 1 Axes>"
      ]
     },
     "metadata": {
      "needs_background": "light"
     },
     "output_type": "display_data"
    }
   ],
   "source": [
    "fig = plt.figure(figsize =(25, 10))\n",
    "plt.bar(clubs, club_losses, color='red')\n",
    "plt.title(\"Matches lost by club\")\n",
    "plt.show()"
   ]
  }
 ],
 "metadata": {
  "kernelspec": {
   "display_name": "Python 3",
   "language": "python",
   "name": "python3"
  },
  "language_info": {
   "codemirror_mode": {
    "name": "ipython",
    "version": 3
   },
   "file_extension": ".py",
   "mimetype": "text/x-python",
   "name": "python",
   "nbconvert_exporter": "python",
   "pygments_lexer": "ipython3",
   "version": "3.7.3"
  }
 },
 "nbformat": 4,
 "nbformat_minor": 4
}
